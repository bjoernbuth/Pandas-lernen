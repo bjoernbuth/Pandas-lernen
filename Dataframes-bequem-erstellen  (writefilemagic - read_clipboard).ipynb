{
 "cells": [
  {
   "cell_type": "code",
   "execution_count": 1,
   "id": "b39ce55b",
   "metadata": {},
   "outputs": [],
   "source": [
    "import pandas as pd\n",
    "import numpy as np"
   ]
  },
  {
   "cell_type": "code",
   "execution_count": 2,
   "id": "70b937d6",
   "metadata": {},
   "outputs": [],
   "source": [
    "np.random.seed(42)"
   ]
  },
  {
   "cell_type": "markdown",
   "id": "85412715",
   "metadata": {},
   "source": [
    "# writefile magic  und read_clipboard"
   ]
  },
  {
   "cell_type": "code",
   "execution_count": 124,
   "id": "4f5028f2",
   "metadata": {},
   "outputs": [],
   "source": [
    "s = \"\"\"\n",
    "a,b,c\n",
    "2,3,4\n",
    "5,6,7\n",
    "\"\"\""
   ]
  },
  {
   "cell_type": "code",
   "execution_count": null,
   "id": "39b82c8d",
   "metadata": {},
   "outputs": [],
   "source": []
  },
  {
   "cell_type": "code",
   "execution_count": 125,
   "id": "4aa58618",
   "metadata": {},
   "outputs": [
    {
     "name": "stdout",
     "output_type": "stream",
     "text": [
      "Overwriting ./data_temp/test.csv\n"
     ]
    }
   ],
   "source": [
    "%%writefile ./data_temp/test.csv\n",
    "a,b,c\n",
    "2,3,4\n",
    "5,9,7\n",
    "3, ,"
   ]
  },
  {
   "cell_type": "code",
   "execution_count": 126,
   "id": "c70bcb25",
   "metadata": {},
   "outputs": [
    {
     "data": {
      "text/html": [
       "<div>\n",
       "<style scoped>\n",
       "    .dataframe tbody tr th:only-of-type {\n",
       "        vertical-align: middle;\n",
       "    }\n",
       "\n",
       "    .dataframe tbody tr th {\n",
       "        vertical-align: top;\n",
       "    }\n",
       "\n",
       "    .dataframe thead th {\n",
       "        text-align: right;\n",
       "    }\n",
       "</style>\n",
       "<table border=\"1\" class=\"dataframe\">\n",
       "  <thead>\n",
       "    <tr style=\"text-align: right;\">\n",
       "      <th></th>\n",
       "      <th>a</th>\n",
       "      <th>c</th>\n",
       "    </tr>\n",
       "    <tr>\n",
       "      <th>b</th>\n",
       "      <th></th>\n",
       "      <th></th>\n",
       "    </tr>\n",
       "  </thead>\n",
       "  <tbody>\n",
       "    <tr>\n",
       "      <th>3</th>\n",
       "      <td>2</td>\n",
       "      <td>4.0</td>\n",
       "    </tr>\n",
       "    <tr>\n",
       "      <th>9</th>\n",
       "      <td>5</td>\n",
       "      <td>7.0</td>\n",
       "    </tr>\n",
       "    <tr>\n",
       "      <th></th>\n",
       "      <td>3</td>\n",
       "      <td>NaN</td>\n",
       "    </tr>\n",
       "  </tbody>\n",
       "</table>\n",
       "</div>"
      ],
      "text/plain": [
       "   a    c\n",
       "b        \n",
       "3  2  4.0\n",
       "9  5  7.0\n",
       "   3  NaN"
      ]
     },
     "execution_count": 126,
     "metadata": {},
     "output_type": "execute_result"
    }
   ],
   "source": [
    "df = pd.read_csv('./data_temp/test.csv', index_col='b')\n",
    "df"
   ]
  },
  {
   "cell_type": "code",
   "execution_count": 127,
   "id": "a014cfa6",
   "metadata": {},
   "outputs": [
    {
     "name": "stdout",
     "output_type": "stream",
     "text": [
      "Overwriting ./data_temp/test01.csv\n"
     ]
    }
   ],
   "source": [
    "%%writefile ./data_temp/test01.csv\n",
    "a,b,c\n",
    "21.0,3,4\n",
    "5,9,7\n",
    "3,4 ,4"
   ]
  },
  {
   "cell_type": "code",
   "execution_count": 128,
   "id": "d712b197",
   "metadata": {},
   "outputs": [
    {
     "data": {
      "text/html": [
       "<div>\n",
       "<style scoped>\n",
       "    .dataframe tbody tr th:only-of-type {\n",
       "        vertical-align: middle;\n",
       "    }\n",
       "\n",
       "    .dataframe tbody tr th {\n",
       "        vertical-align: top;\n",
       "    }\n",
       "\n",
       "    .dataframe thead th {\n",
       "        text-align: right;\n",
       "    }\n",
       "</style>\n",
       "<table border=\"1\" class=\"dataframe\">\n",
       "  <thead>\n",
       "    <tr style=\"text-align: right;\">\n",
       "      <th></th>\n",
       "      <th>a</th>\n",
       "      <th>b</th>\n",
       "      <th>c</th>\n",
       "    </tr>\n",
       "  </thead>\n",
       "  <tbody>\n",
       "    <tr>\n",
       "      <th>0</th>\n",
       "      <td>21.0</td>\n",
       "      <td>3</td>\n",
       "      <td>4</td>\n",
       "    </tr>\n",
       "    <tr>\n",
       "      <th>1</th>\n",
       "      <td>5.0</td>\n",
       "      <td>9</td>\n",
       "      <td>7</td>\n",
       "    </tr>\n",
       "    <tr>\n",
       "      <th>2</th>\n",
       "      <td>3.0</td>\n",
       "      <td>4</td>\n",
       "      <td>4</td>\n",
       "    </tr>\n",
       "  </tbody>\n",
       "</table>\n",
       "</div>"
      ],
      "text/plain": [
       "      a  b  c\n",
       "0  21.0  3  4\n",
       "1   5.0  9  7\n",
       "2   3.0  4  4"
      ]
     },
     "execution_count": 128,
     "metadata": {},
     "output_type": "execute_result"
    }
   ],
   "source": [
    "df = pd.read_csv(\"./data_temp/test01.csv\", header=0, sep=',')\n",
    "df\n"
   ]
  },
  {
   "cell_type": "markdown",
   "id": "8fd3803f",
   "metadata": {},
   "source": [
    "## Experimente mit pd.read_clipboard"
   ]
  },
  {
   "cell_type": "code",
   "execution_count": 129,
   "id": "3c45ee47",
   "metadata": {},
   "outputs": [
    {
     "name": "stdout",
     "output_type": "stream",
     "text": [
      "Overwriting ./data_temp/player_numbers.csv\n"
     ]
    }
   ],
   "source": [
    "%%writefile ./data_temp/player_numbers.csv\n",
    "NBA, NFL, MBL, MLS\n",
    "5, 11, 9, 11\n",
    "\n"
   ]
  },
  {
   "cell_type": "code",
   "execution_count": 130,
   "id": "9b637d16",
   "metadata": {},
   "outputs": [
    {
     "data": {
      "text/html": [
       "<div>\n",
       "<style scoped>\n",
       "    .dataframe tbody tr th:only-of-type {\n",
       "        vertical-align: middle;\n",
       "    }\n",
       "\n",
       "    .dataframe tbody tr th {\n",
       "        vertical-align: top;\n",
       "    }\n",
       "\n",
       "    .dataframe thead th {\n",
       "        text-align: right;\n",
       "    }\n",
       "</style>\n",
       "<table border=\"1\" class=\"dataframe\">\n",
       "  <thead>\n",
       "    <tr style=\"text-align: right;\">\n",
       "      <th></th>\n",
       "      <th>Dataframes-bequem-erstellen  (writefilemagic - read_clipboard)</th>\n",
       "    </tr>\n",
       "  </thead>\n",
       "  <tbody>\n",
       "  </tbody>\n",
       "</table>\n",
       "</div>"
      ],
      "text/plain": [
       "Empty DataFrame\n",
       "Columns: [Dataframes-bequem-erstellen  (writefilemagic - read_clipboard)]\n",
       "Index: []"
      ]
     },
     "execution_count": 130,
     "metadata": {},
     "output_type": "execute_result"
    }
   ],
   "source": [
    "df = pd.read_clipboard(sep=',')\n",
    "df"
   ]
  },
  {
   "cell_type": "code",
   "execution_count": 131,
   "id": "d528feeb",
   "metadata": {},
   "outputs": [],
   "source": [
    "s = \"\"\"\n",
    "a,b,c\n",
    "2,3,4\n",
    "5,6,7\n",
    "\"\"\""
   ]
  },
  {
   "cell_type": "code",
   "execution_count": 132,
   "id": "50a9b8da",
   "metadata": {},
   "outputs": [
    {
     "name": "stdout",
     "output_type": "stream",
     "text": [
      "Empty DataFrame\n",
      "Columns: [Dataframes-bequem-erstellen  (writefilemagic - read_clipboard)]\n",
      "Index: []\n"
     ]
    }
   ],
   "source": [
    "print(df.to_string())"
   ]
  },
  {
   "cell_type": "code",
   "execution_count": 133,
   "id": "df5be137",
   "metadata": {},
   "outputs": [
    {
     "data": {
      "text/html": [
       "<div>\n",
       "<style scoped>\n",
       "    .dataframe tbody tr th:only-of-type {\n",
       "        vertical-align: middle;\n",
       "    }\n",
       "\n",
       "    .dataframe tbody tr th {\n",
       "        vertical-align: top;\n",
       "    }\n",
       "\n",
       "    .dataframe thead th {\n",
       "        text-align: right;\n",
       "    }\n",
       "</style>\n",
       "<table border=\"1\" class=\"dataframe\">\n",
       "  <thead>\n",
       "    <tr style=\"text-align: right;\">\n",
       "      <th></th>\n",
       "      <th>Dataframes-bequem-erstellen</th>\n",
       "      <th>(writefilemagic</th>\n",
       "      <th>-</th>\n",
       "      <th>read_clipboard)</th>\n",
       "    </tr>\n",
       "  </thead>\n",
       "  <tbody>\n",
       "  </tbody>\n",
       "</table>\n",
       "</div>"
      ],
      "text/plain": [
       "Empty DataFrame\n",
       "Columns: [Dataframes-bequem-erstellen, (writefilemagic, -, read_clipboard)]\n",
       "Index: []"
      ]
     },
     "execution_count": 133,
     "metadata": {},
     "output_type": "execute_result"
    }
   ],
   "source": [
    "df = pd.read_clipboard()\n",
    "df"
   ]
  },
  {
   "cell_type": "code",
   "execution_count": 134,
   "id": "3fa73733",
   "metadata": {},
   "outputs": [
    {
     "ename": "SyntaxError",
     "evalue": "invalid syntax (Temp/ipykernel_5988/2751851879.py, line 1)",
     "output_type": "error",
     "traceback": [
      "\u001b[1;36m  File \u001b[1;32m\"C:\\Users\\bj\\AppData\\Local\\Temp/ipykernel_5988/2751851879.py\"\u001b[1;36m, line \u001b[1;32m1\u001b[0m\n\u001b[1;33m    last_name first_name   birthday gender type state       party\u001b[0m\n\u001b[1;37m              ^\u001b[0m\n\u001b[1;31mSyntaxError\u001b[0m\u001b[1;31m:\u001b[0m invalid syntax\n"
     ]
    }
   ],
   "source": [
    "      last_name first_name   birthday gender type state       party\n",
    "11970   Garrett     Thomas 1972-03-27      M  rep    VA  Republican\n",
    "11971    Handel      Karen 1962-04-18      F  rep    GA  Republican\n",
    "11972     Jones     Brenda 1959-10-24      F  rep    MI    Democrat\n",
    "11973    Marino        Tom 1952-08-15      M  rep    PA  Republican\n",
    "11974     Jones     Walter 1943-02-10      M  rep    NC  Republican"
   ]
  },
  {
   "cell_type": "code",
   "execution_count": 135,
   "id": "253a3ec6",
   "metadata": {},
   "outputs": [
    {
     "data": {
      "text/html": [
       "<div>\n",
       "<style scoped>\n",
       "    .dataframe tbody tr th:only-of-type {\n",
       "        vertical-align: middle;\n",
       "    }\n",
       "\n",
       "    .dataframe tbody tr th {\n",
       "        vertical-align: top;\n",
       "    }\n",
       "\n",
       "    .dataframe thead th {\n",
       "        text-align: right;\n",
       "    }\n",
       "</style>\n",
       "<table border=\"1\" class=\"dataframe\">\n",
       "  <thead>\n",
       "    <tr style=\"text-align: right;\">\n",
       "      <th></th>\n",
       "      <th>Dataframes-bequem-erstellen</th>\n",
       "      <th>(writefilemagic</th>\n",
       "      <th>-</th>\n",
       "      <th>read_clipboard)</th>\n",
       "    </tr>\n",
       "  </thead>\n",
       "  <tbody>\n",
       "  </tbody>\n",
       "</table>\n",
       "</div>"
      ],
      "text/plain": [
       "Empty DataFrame\n",
       "Columns: [Dataframes-bequem-erstellen, (writefilemagic, -, read_clipboard)]\n",
       "Index: []"
      ]
     },
     "metadata": {},
     "output_type": "display_data"
    },
    {
     "name": "stdout",
     "output_type": "stream",
     "text": [
      "Empty DataFrame\n",
      "Columns: [Dataframes-bequem-erstellen, (writefilemagic, -, read_clipboard)]\n",
      "Index: []\n"
     ]
    }
   ],
   "source": [
    "df = pd.read_clipboard()\n",
    "display(df)\n",
    "\n",
    "print(df.to_string())"
   ]
  },
  {
   "cell_type": "markdown",
   "id": "f643627e",
   "metadata": {},
   "source": [
    "## Beisspiel: Wikipedia: Bundesliga Club mit copy und paste"
   ]
  },
  {
   "cell_type": "code",
   "execution_count": 136,
   "id": "7c9bec12",
   "metadata": {},
   "outputs": [
    {
     "ename": "SyntaxError",
     "evalue": "invalid syntax (Temp/ipykernel_5988/3279207523.py, line 1)",
     "output_type": "error",
     "traceback": [
      "\u001b[1;36m  File \u001b[1;32m\"C:\\Users\\bj\\AppData\\Local\\Temp/ipykernel_5988/3279207523.py\"\u001b[1;36m, line \u001b[1;32m1\u001b[0m\n\u001b[1;33m    Arminia Bielefeld\t15th\t1970–71\t19\t2020–21\t2\t0\t0\t–\u001b[0m\n\u001b[1;37m            ^\u001b[0m\n\u001b[1;31mSyntaxError\u001b[0m\u001b[1;31m:\u001b[0m invalid syntax\n"
     ]
    }
   ],
   "source": [
    "Arminia Bielefeld\t15th\t1970–71\t19\t2020–21\t2\t0\t0\t–\n",
    "FC Augsburgb\t13th\t2011–12\t11\t2011–12\t11\t0\t0\t–\n",
    "Bayer Leverkusenb\t6th\t1979–80\t43\t1979–80\t43\t0\t0\t–\n",
    "Bayern Munichb\t1st\t1965–66\t57\t1965–66\t57\t30\t31\t2021\n",
    "VfL Bochum\t1st (2. B)\t1971–72\t35\t2021–22\t1\t0\t0\t–\n",
    "Borussia Dortmunda\t3rd\t1963–64\t55\t1976–77\t46\t5\t8\t2012\n",
    "Borussia Mönchengladbach\t8th\t1965–66\t54\t2008–09\t14\t5\t5\t1977\n",
    "Eintracht Frankfurta\t5th\t1963–64\t53\t2012–13\t10\t0\t1\t1959\n",
    "SC Freiburg\t10th\t1993–94\t22\t2016–17\t6\t0\t0\t–\n",
    "Greuther Fürth\t2nd (2. B)\t2012–13\t2\t2021–22\t1\t0\t3\t1929\n",
    "Hertha BSCa\t14th\t1963–64\t38\t2013–14\t9\t0\t2\t1931\n",
    "1899 Hoffenheimb\t11th\t2008–09\t14\t2008–09\t14\t0\t0\t–\n",
    "1. FC Kölna\t16th\t1963–64\t50\t2019–20\t3\t2\t3\t1978\n",
    "RB Leipzigb\t2nd\t2016–17\t6\t2016–17\t6\t0\t0\t–\n",
    "Mainz 05\t12th\t2004–05\t16\t2009–10\t13\t0\t0\t–\n",
    "VfB Stuttgarta\t9th\t1963–64\t55\t2020–21\t2\t3\t5\t2007\n",
    "Union Berlinb\t7th\t2019–20\t3\t2019–20\t3\t0\t0\t–\n",
    "VfL Wolfsburgb\t4th\t1997–98\t25\t1997–98\t25\t1\t1\t2009"
   ]
  },
  {
   "cell_type": "code",
   "execution_count": 137,
   "id": "e1c1cbbd",
   "metadata": {},
   "outputs": [
    {
     "data": {
      "text/html": [
       "<div>\n",
       "<style scoped>\n",
       "    .dataframe tbody tr th:only-of-type {\n",
       "        vertical-align: middle;\n",
       "    }\n",
       "\n",
       "    .dataframe tbody tr th {\n",
       "        vertical-align: top;\n",
       "    }\n",
       "\n",
       "    .dataframe thead th {\n",
       "        text-align: right;\n",
       "    }\n",
       "</style>\n",
       "<table border=\"1\" class=\"dataframe\">\n",
       "  <thead>\n",
       "    <tr style=\"text-align: right;\">\n",
       "      <th></th>\n",
       "      <th>Dataframes-bequem-erstellen</th>\n",
       "      <th>(writefilemagic</th>\n",
       "      <th>-</th>\n",
       "      <th>read_clipboard)</th>\n",
       "    </tr>\n",
       "  </thead>\n",
       "  <tbody>\n",
       "  </tbody>\n",
       "</table>\n",
       "</div>"
      ],
      "text/plain": [
       "Empty DataFrame\n",
       "Columns: [Dataframes-bequem-erstellen, (writefilemagic, -, read_clipboard)]\n",
       "Index: []"
      ]
     },
     "metadata": {},
     "output_type": "display_data"
    },
    {
     "name": "stdout",
     "output_type": "stream",
     "text": [
      "Empty DataFrame\n",
      "Columns: [Dataframes-bequem-erstellen, (writefilemagic, -, read_clipboard)]\n",
      "Index: []\n"
     ]
    }
   ],
   "source": [
    "df = pd.read_clipboard()\n",
    "display(df)\n",
    "\n",
    "print(df.to_string())"
   ]
  },
  {
   "cell_type": "code",
   "execution_count": null,
   "id": "b687166f",
   "metadata": {},
   "outputs": [],
   "source": []
  },
  {
   "cell_type": "code",
   "execution_count": 138,
   "id": "9d6ef514",
   "metadata": {},
   "outputs": [
    {
     "ename": "SyntaxError",
     "evalue": "invalid syntax (Temp/ipykernel_5988/508023305.py, line 1)",
     "output_type": "error",
     "traceback": [
      "\u001b[1;36m  File \u001b[1;32m\"C:\\Users\\bj\\AppData\\Local\\Temp/ipykernel_5988/508023305.py\"\u001b[1;36m, line \u001b[1;32m1\u001b[0m\n\u001b[1;33m    1\tBayern München\tBayern München\t18\t14\t1\t3\t57:18\t39\t43\u001b[0m\n\u001b[1;37m     \t^\u001b[0m\n\u001b[1;31mSyntaxError\u001b[0m\u001b[1;31m:\u001b[0m invalid syntax\n"
     ]
    }
   ],
   "source": [
    "\n",
    "1\tBayern München\tBayern München\t18\t14\t1\t3\t57:18\t39\t43\n",
    "2\tBorussia Dortmund\tBorussia Dortmund\t19\t13\t1\t5\t49:29\t20\t40\n",
    "3\t1899 Hoffenheim\t1899 Hoffenheim\t18\t9\t4\t5\t38:27\t11\t31\n",
    "4\tSC Freiburg\tSC Freiburg\t19\t8\t6\t5\t31:23\t8\t30\n",
    "5\tBayer Leverkusen\tBayer Leverkusen\t18\t8\t5\t5\t42:30\t12\t29\n",
    "6\t1. FC Köln\t1. FC Köln\t18\t7\t7\t4\t30:28\t2\t28\n",
    "7\t1. FC Union Berlin\t1. FC Union Berlin\t18\t7\t7\t4\t25:23\t2\t28\n",
    "8\tEintracht Frankfurt\tEintracht Frankfurt\t18\t7\t6\t5\t29:27\t2\t27\n",
    "9\tRB Leipzig\tRB Leipzig\t18\t7\t4\t7\t34:23\t11\t25\n",
    "10\t1. FSV Mainz 05\t1. FSV Mainz 05\t18\t7\t3\t8\t26:21\t5\t24\n",
    "11\tVfL Bochum\tVfL Bochum\t18\t7\t2\t9\t17:26\t-9\t23\n",
    "12\tBor. Mönchengladbach\tBor. Mönchengladbach\t18\t6\t4\t8\t24:33\t-9\t22\n",
    "13\tHertha BSC\tHertha BSC\t18\t6\t3\t9\t21:38\t-17\t21\n",
    "14\tVfL Wolfsburg\tVfL Wolfsburg\t18\t6\t2\t10\t17:30\t-13\t20\n",
    "15\tVfB Stuttgart\tVfB Stuttgart\t18\t4\t6\t8\t22:31\t-9\t18\n",
    "16\tFC Augsburg\tFC Augsburg\t18\t4\t6\t8\t18:29\t-11\t18\n",
    "17\tArminia Bielefeld\tArminia Bielefeld\t18\t3\t8\t7\t16:24\t-8\t17\n",
    "18\tSpVgg Greuther Fürth\tSpVgg Greuther Fürth\t18\t1\t3\t14\t13:49\t-36\t6"
   ]
  },
  {
   "cell_type": "markdown",
   "id": "1a5f39c1",
   "metadata": {},
   "source": [
    "**Die Spaltennamen** wurden nicht erkannt dabei, hierfür müssten wir anderen\n",
    "Funktionen verwenden z.B. scraping"
   ]
  },
  {
   "cell_type": "markdown",
   "id": "eb8b0302",
   "metadata": {},
   "source": [
    "## Bundesliga Tabelle 2022-01-14"
   ]
  },
  {
   "cell_type": "code",
   "execution_count": 120,
   "id": "87691864",
   "metadata": {},
   "outputs": [
    {
     "data": {
      "text/html": [
       "<div>\n",
       "<style scoped>\n",
       "    .dataframe tbody tr th:only-of-type {\n",
       "        vertical-align: middle;\n",
       "    }\n",
       "\n",
       "    .dataframe tbody tr th {\n",
       "        vertical-align: top;\n",
       "    }\n",
       "\n",
       "    .dataframe thead th {\n",
       "        text-align: right;\n",
       "    }\n",
       "</style>\n",
       "<table border=\"1\" class=\"dataframe\">\n",
       "  <thead>\n",
       "    <tr style=\"text-align: right;\">\n",
       "      <th></th>\n",
       "      <th>1</th>\n",
       "      <th>Bayern München</th>\n",
       "      <th>Bayern München.1</th>\n",
       "      <th>18</th>\n",
       "      <th>14</th>\n",
       "      <th>1.1</th>\n",
       "      <th>3</th>\n",
       "      <th>57:18</th>\n",
       "      <th>39</th>\n",
       "      <th>43</th>\n",
       "    </tr>\n",
       "  </thead>\n",
       "  <tbody>\n",
       "    <tr>\n",
       "      <th>0</th>\n",
       "      <td>2</td>\n",
       "      <td>Borussia Dortmund</td>\n",
       "      <td>Borussia Dortmund</td>\n",
       "      <td>19</td>\n",
       "      <td>13</td>\n",
       "      <td>1</td>\n",
       "      <td>5</td>\n",
       "      <td>49:29</td>\n",
       "      <td>20</td>\n",
       "      <td>40</td>\n",
       "    </tr>\n",
       "    <tr>\n",
       "      <th>1</th>\n",
       "      <td>3</td>\n",
       "      <td>1899 Hoffenheim</td>\n",
       "      <td>1899 Hoffenheim</td>\n",
       "      <td>18</td>\n",
       "      <td>9</td>\n",
       "      <td>4</td>\n",
       "      <td>5</td>\n",
       "      <td>38:27</td>\n",
       "      <td>11</td>\n",
       "      <td>31</td>\n",
       "    </tr>\n",
       "    <tr>\n",
       "      <th>2</th>\n",
       "      <td>4</td>\n",
       "      <td>SC Freiburg</td>\n",
       "      <td>SC Freiburg</td>\n",
       "      <td>19</td>\n",
       "      <td>8</td>\n",
       "      <td>6</td>\n",
       "      <td>5</td>\n",
       "      <td>31:23</td>\n",
       "      <td>8</td>\n",
       "      <td>30</td>\n",
       "    </tr>\n",
       "    <tr>\n",
       "      <th>3</th>\n",
       "      <td>5</td>\n",
       "      <td>Bayer Leverkusen</td>\n",
       "      <td>Bayer Leverkusen</td>\n",
       "      <td>18</td>\n",
       "      <td>8</td>\n",
       "      <td>5</td>\n",
       "      <td>5</td>\n",
       "      <td>42:30</td>\n",
       "      <td>12</td>\n",
       "      <td>29</td>\n",
       "    </tr>\n",
       "    <tr>\n",
       "      <th>4</th>\n",
       "      <td>6</td>\n",
       "      <td>1. FC Köln</td>\n",
       "      <td>1. FC Köln</td>\n",
       "      <td>18</td>\n",
       "      <td>7</td>\n",
       "      <td>7</td>\n",
       "      <td>4</td>\n",
       "      <td>30:28</td>\n",
       "      <td>2</td>\n",
       "      <td>28</td>\n",
       "    </tr>\n",
       "    <tr>\n",
       "      <th>5</th>\n",
       "      <td>7</td>\n",
       "      <td>1. FC Union Berlin</td>\n",
       "      <td>1. FC Union Berlin</td>\n",
       "      <td>18</td>\n",
       "      <td>7</td>\n",
       "      <td>7</td>\n",
       "      <td>4</td>\n",
       "      <td>25:23</td>\n",
       "      <td>2</td>\n",
       "      <td>28</td>\n",
       "    </tr>\n",
       "    <tr>\n",
       "      <th>6</th>\n",
       "      <td>8</td>\n",
       "      <td>Eintracht Frankfurt</td>\n",
       "      <td>Eintracht Frankfurt</td>\n",
       "      <td>18</td>\n",
       "      <td>7</td>\n",
       "      <td>6</td>\n",
       "      <td>5</td>\n",
       "      <td>29:27</td>\n",
       "      <td>2</td>\n",
       "      <td>27</td>\n",
       "    </tr>\n",
       "    <tr>\n",
       "      <th>7</th>\n",
       "      <td>9</td>\n",
       "      <td>RB Leipzig</td>\n",
       "      <td>RB Leipzig</td>\n",
       "      <td>18</td>\n",
       "      <td>7</td>\n",
       "      <td>4</td>\n",
       "      <td>7</td>\n",
       "      <td>34:23</td>\n",
       "      <td>11</td>\n",
       "      <td>25</td>\n",
       "    </tr>\n",
       "    <tr>\n",
       "      <th>8</th>\n",
       "      <td>10</td>\n",
       "      <td>1. FSV Mainz 05</td>\n",
       "      <td>1. FSV Mainz 05</td>\n",
       "      <td>18</td>\n",
       "      <td>7</td>\n",
       "      <td>3</td>\n",
       "      <td>8</td>\n",
       "      <td>26:21</td>\n",
       "      <td>5</td>\n",
       "      <td>24</td>\n",
       "    </tr>\n",
       "    <tr>\n",
       "      <th>9</th>\n",
       "      <td>11</td>\n",
       "      <td>VfL Bochum</td>\n",
       "      <td>VfL Bochum</td>\n",
       "      <td>18</td>\n",
       "      <td>7</td>\n",
       "      <td>2</td>\n",
       "      <td>9</td>\n",
       "      <td>17:26</td>\n",
       "      <td>-9</td>\n",
       "      <td>23</td>\n",
       "    </tr>\n",
       "    <tr>\n",
       "      <th>10</th>\n",
       "      <td>12</td>\n",
       "      <td>Bor. Mönchengladbach</td>\n",
       "      <td>Bor. Mönchengladbach</td>\n",
       "      <td>18</td>\n",
       "      <td>6</td>\n",
       "      <td>4</td>\n",
       "      <td>8</td>\n",
       "      <td>24:33</td>\n",
       "      <td>-9</td>\n",
       "      <td>22</td>\n",
       "    </tr>\n",
       "    <tr>\n",
       "      <th>11</th>\n",
       "      <td>13</td>\n",
       "      <td>Hertha BSC</td>\n",
       "      <td>Hertha BSC</td>\n",
       "      <td>18</td>\n",
       "      <td>6</td>\n",
       "      <td>3</td>\n",
       "      <td>9</td>\n",
       "      <td>21:38</td>\n",
       "      <td>-17</td>\n",
       "      <td>21</td>\n",
       "    </tr>\n",
       "    <tr>\n",
       "      <th>12</th>\n",
       "      <td>14</td>\n",
       "      <td>VfL Wolfsburg</td>\n",
       "      <td>VfL Wolfsburg</td>\n",
       "      <td>18</td>\n",
       "      <td>6</td>\n",
       "      <td>2</td>\n",
       "      <td>10</td>\n",
       "      <td>17:30</td>\n",
       "      <td>-13</td>\n",
       "      <td>20</td>\n",
       "    </tr>\n",
       "    <tr>\n",
       "      <th>13</th>\n",
       "      <td>15</td>\n",
       "      <td>VfB Stuttgart</td>\n",
       "      <td>VfB Stuttgart</td>\n",
       "      <td>18</td>\n",
       "      <td>4</td>\n",
       "      <td>6</td>\n",
       "      <td>8</td>\n",
       "      <td>22:31</td>\n",
       "      <td>-9</td>\n",
       "      <td>18</td>\n",
       "    </tr>\n",
       "    <tr>\n",
       "      <th>14</th>\n",
       "      <td>16</td>\n",
       "      <td>FC Augsburg</td>\n",
       "      <td>FC Augsburg</td>\n",
       "      <td>18</td>\n",
       "      <td>4</td>\n",
       "      <td>6</td>\n",
       "      <td>8</td>\n",
       "      <td>18:29</td>\n",
       "      <td>-11</td>\n",
       "      <td>18</td>\n",
       "    </tr>\n",
       "    <tr>\n",
       "      <th>15</th>\n",
       "      <td>17</td>\n",
       "      <td>Arminia Bielefeld</td>\n",
       "      <td>Arminia Bielefeld</td>\n",
       "      <td>18</td>\n",
       "      <td>3</td>\n",
       "      <td>8</td>\n",
       "      <td>7</td>\n",
       "      <td>16:24</td>\n",
       "      <td>-8</td>\n",
       "      <td>17</td>\n",
       "    </tr>\n",
       "    <tr>\n",
       "      <th>16</th>\n",
       "      <td>18</td>\n",
       "      <td>SpVgg Greuther Fürth</td>\n",
       "      <td>SpVgg Greuther Fürth</td>\n",
       "      <td>18</td>\n",
       "      <td>1</td>\n",
       "      <td>3</td>\n",
       "      <td>14</td>\n",
       "      <td>13:49</td>\n",
       "      <td>-36</td>\n",
       "      <td>6</td>\n",
       "    </tr>\n",
       "  </tbody>\n",
       "</table>\n",
       "</div>"
      ],
      "text/plain": [
       "     1        Bayern München      Bayern München.1  18  14  1.1   3  57:18  \\\n",
       "0    2     Borussia Dortmund     Borussia Dortmund  19  13    1   5  49:29   \n",
       "1    3       1899 Hoffenheim       1899 Hoffenheim  18   9    4   5  38:27   \n",
       "2    4           SC Freiburg           SC Freiburg  19   8    6   5  31:23   \n",
       "3    5      Bayer Leverkusen      Bayer Leverkusen  18   8    5   5  42:30   \n",
       "4    6            1. FC Köln            1. FC Köln  18   7    7   4  30:28   \n",
       "5    7    1. FC Union Berlin    1. FC Union Berlin  18   7    7   4  25:23   \n",
       "6    8   Eintracht Frankfurt   Eintracht Frankfurt  18   7    6   5  29:27   \n",
       "7    9            RB Leipzig            RB Leipzig  18   7    4   7  34:23   \n",
       "8   10       1. FSV Mainz 05       1. FSV Mainz 05  18   7    3   8  26:21   \n",
       "9   11            VfL Bochum            VfL Bochum  18   7    2   9  17:26   \n",
       "10  12  Bor. Mönchengladbach  Bor. Mönchengladbach  18   6    4   8  24:33   \n",
       "11  13            Hertha BSC            Hertha BSC  18   6    3   9  21:38   \n",
       "12  14         VfL Wolfsburg         VfL Wolfsburg  18   6    2  10  17:30   \n",
       "13  15         VfB Stuttgart         VfB Stuttgart  18   4    6   8  22:31   \n",
       "14  16           FC Augsburg           FC Augsburg  18   4    6   8  18:29   \n",
       "15  17     Arminia Bielefeld     Arminia Bielefeld  18   3    8   7  16:24   \n",
       "16  18  SpVgg Greuther Fürth  SpVgg Greuther Fürth  18   1    3  14  13:49   \n",
       "\n",
       "    39  43  \n",
       "0   20  40  \n",
       "1   11  31  \n",
       "2    8  30  \n",
       "3   12  29  \n",
       "4    2  28  \n",
       "5    2  28  \n",
       "6    2  27  \n",
       "7   11  25  \n",
       "8    5  24  \n",
       "9   -9  23  \n",
       "10  -9  22  \n",
       "11 -17  21  \n",
       "12 -13  20  \n",
       "13  -9  18  \n",
       "14 -11  18  \n",
       "15  -8  17  \n",
       "16 -36   6  "
      ]
     },
     "metadata": {},
     "output_type": "display_data"
    },
    {
     "name": "stdout",
     "output_type": "stream",
     "text": [
      "     1        Bayern München      Bayern München.1  18  14  1.1   3  57:18  39  43\n",
      "0    2     Borussia Dortmund     Borussia Dortmund  19  13    1   5  49:29  20  40\n",
      "1    3       1899 Hoffenheim       1899 Hoffenheim  18   9    4   5  38:27  11  31\n",
      "2    4           SC Freiburg           SC Freiburg  19   8    6   5  31:23   8  30\n",
      "3    5      Bayer Leverkusen      Bayer Leverkusen  18   8    5   5  42:30  12  29\n",
      "4    6            1. FC Köln            1. FC Köln  18   7    7   4  30:28   2  28\n",
      "5    7    1. FC Union Berlin    1. FC Union Berlin  18   7    7   4  25:23   2  28\n",
      "6    8   Eintracht Frankfurt   Eintracht Frankfurt  18   7    6   5  29:27   2  27\n",
      "7    9            RB Leipzig            RB Leipzig  18   7    4   7  34:23  11  25\n",
      "8   10       1. FSV Mainz 05       1. FSV Mainz 05  18   7    3   8  26:21   5  24\n",
      "9   11            VfL Bochum            VfL Bochum  18   7    2   9  17:26  -9  23\n",
      "10  12  Bor. Mönchengladbach  Bor. Mönchengladbach  18   6    4   8  24:33  -9  22\n",
      "11  13            Hertha BSC            Hertha BSC  18   6    3   9  21:38 -17  21\n",
      "12  14         VfL Wolfsburg         VfL Wolfsburg  18   6    2  10  17:30 -13  20\n",
      "13  15         VfB Stuttgart         VfB Stuttgart  18   4    6   8  22:31  -9  18\n",
      "14  16           FC Augsburg           FC Augsburg  18   4    6   8  18:29 -11  18\n",
      "15  17     Arminia Bielefeld     Arminia Bielefeld  18   3    8   7  16:24  -8  17\n",
      "16  18  SpVgg Greuther Fürth  SpVgg Greuther Fürth  18   1    3  14  13:49 -36   6\n"
     ]
    }
   ],
   "source": [
    "df = pd.read_clipboard()\n",
    "display(df)\n",
    "\n",
    "print(df.to_string())"
   ]
  },
  {
   "cell_type": "code",
   "execution_count": 123,
   "id": "97c707e7",
   "metadata": {},
   "outputs": [
    {
     "data": {
      "text/html": [
       "<div>\n",
       "<style scoped>\n",
       "    .dataframe tbody tr th:only-of-type {\n",
       "        vertical-align: middle;\n",
       "    }\n",
       "\n",
       "    .dataframe tbody tr th {\n",
       "        vertical-align: top;\n",
       "    }\n",
       "\n",
       "    .dataframe thead th {\n",
       "        text-align: right;\n",
       "    }\n",
       "</style>\n",
       "<table border=\"1\" class=\"dataframe\">\n",
       "  <thead>\n",
       "    <tr style=\"text-align: right;\">\n",
       "      <th></th>\n",
       "      <th>#</th>\n",
       "      <th>Mannschaft</th>\n",
       "      <th>Sp.</th>\n",
       "      <th>S</th>\n",
       "      <th>U</th>\n",
       "      <th>N</th>\n",
       "      <th>Tore</th>\n",
       "      <th>Diff.</th>\n",
       "      <th>Pkt.</th>\n",
       "    </tr>\n",
       "  </thead>\n",
       "  <tbody>\n",
       "  </tbody>\n",
       "</table>\n",
       "</div>"
      ],
      "text/plain": [
       "Empty DataFrame\n",
       "Columns: [#, Mannschaft, Sp., S, U, N, Tore, Diff., Pkt.]\n",
       "Index: []"
      ]
     },
     "metadata": {},
     "output_type": "display_data"
    },
    {
     "name": "stdout",
     "output_type": "stream",
     "text": [
      "Empty DataFrame\n",
      "Columns: [#, Mannschaft, Sp., S, U, N, Tore, Diff., Pkt.]\n",
      "Index: []\n"
     ]
    }
   ],
   "source": [
    "df = pd.read_clipboard()\n",
    "display(df)\n",
    "\n",
    "print(df.to_string())"
   ]
  },
  {
   "cell_type": "code",
   "execution_count": null,
   "id": "4dfc940c",
   "metadata": {},
   "outputs": [],
   "source": [
    "#\t\tMannschaft\tSp.\tS\tU\tN\tTore\tDiff.\tPkt."
   ]
  },
  {
   "cell_type": "code",
   "execution_count": null,
   "id": "75a0ff81",
   "metadata": {},
   "outputs": [],
   "source": []
  },
  {
   "cell_type": "code",
   "execution_count": null,
   "id": "59114bc7",
   "metadata": {},
   "outputs": [],
   "source": []
  }
 ],
 "metadata": {
  "kernelspec": {
   "display_name": "Python 3 (ipykernel)",
   "language": "python",
   "name": "python3"
  },
  "language_info": {
   "codemirror_mode": {
    "name": "ipython",
    "version": 3
   },
   "file_extension": ".py",
   "mimetype": "text/x-python",
   "name": "python",
   "nbconvert_exporter": "python",
   "pygments_lexer": "ipython3",
   "version": "3.9.7"
  },
  "toc": {
   "base_numbering": 1,
   "nav_menu": {},
   "number_sections": false,
   "sideBar": true,
   "skip_h1_title": false,
   "title_cell": "Table of Contents",
   "title_sidebar": "Contents",
   "toc_cell": false,
   "toc_position": {
    "height": "calc(100% - 180px)",
    "left": "10px",
    "top": "150px",
    "width": "356.002px"
   },
   "toc_section_display": true,
   "toc_window_display": true
  },
  "toc-autonumbering": false,
  "varInspector": {
   "cols": {
    "lenName": 16,
    "lenType": 16,
    "lenVar": 40
   },
   "kernels_config": {
    "python": {
     "delete_cmd_postfix": "",
     "delete_cmd_prefix": "del ",
     "library": "var_list.py",
     "varRefreshCmd": "print(var_dic_list())"
    },
    "r": {
     "delete_cmd_postfix": ") ",
     "delete_cmd_prefix": "rm(",
     "library": "var_list.r",
     "varRefreshCmd": "cat(var_dic_list()) "
    }
   },
   "types_to_exclude": [
    "module",
    "function",
    "builtin_function_or_method",
    "instance",
    "_Feature"
   ],
   "window_display": false
  }
 },
 "nbformat": 4,
 "nbformat_minor": 5
}
